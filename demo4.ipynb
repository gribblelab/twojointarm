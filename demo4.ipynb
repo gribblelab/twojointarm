{
 "cells": [
  {
   "cell_type": "code",
   "execution_count": 1,
   "metadata": {},
   "outputs": [],
   "source": [
    "# import numpy\n",
    "import numpy as np\n",
    "\n",
    "# load up arm parameters arm_params and some helper functions\n",
    "from twojointarm_funs import *\n",
    "\n",
    "# for plotting\n",
    "import matplotlib.pyplot as plt"
   ]
  },
  {
   "cell_type": "code",
   "execution_count": 2,
   "metadata": {},
   "outputs": [],
   "source": [
    "# Setup initial conditions of simulation\n",
    "\n",
    "A0    = np.array([45,90]) * np.pi/180  # arm mid-movement position: (45,90) degrees (shoulder,elbow)\n",
    "H0,E0 = joints_to_hand(A0, arm_params) # convert to cartesian (x,y) hand position H1\n",
    "mt    = 0.400                          # movement time (sec)\n",
    "sr    = 100                            # sample rate (Hz)\n",
    "movdist = 0.15                         # total movement distance (m)\n",
    "npts  = int(mt*sr)+1                   # number of time points"
   ]
  },
  {
   "cell_type": "code",
   "execution_count": 3,
   "metadata": {},
   "outputs": [],
   "source": [
    "n       = 8         # number of targets around the circle\n",
    "angs    = np.linspace(0,2*np.pi,n+1)[0:-1]"
   ]
  },
  {
   "cell_type": "code",
   "execution_count": 4,
   "metadata": {},
   "outputs": [],
   "source": [
    "# initialize arrays to store torques, hand paths, and joint angles\n",
    "HH = np.zeros((npts,2,n)) # hand position (m)"
   ]
  },
  {
   "cell_type": "code",
   "execution_count": 18,
   "metadata": {},
   "outputs": [],
   "source": [
    "# compute min-jerk trajectory and muscle torques using inverse dynamics for each target\n",
    "TGT0 = H0\n",
    "TGTS = np.zeros((2,n))\n",
    "for i, a in enumerate(angs):\n",
    "    sincos = np.array([np.cos(a), np.sin(a)])\n",
    "    H1 = H0 + movdist * sincos\n",
    "    TGTS[:,i] = H1\n",
    "    t,H,Hd,Hdd = minjerk(H0,H1,mt,npts)\n",
    "    A,Ad,Add = hand_to_joints((H,Hd,Hdd),arm_params)\n",
    "    Q = inverse_dynamics(A,Ad,Add,arm_params)\n",
    "    HH[:,:,i] = H\n"
   ]
  },
  {
   "cell_type": "code",
   "execution_count": 46,
   "metadata": {},
   "outputs": [],
   "source": [
    "def plot_hand_paths(TGTS0,TGTS,H):\n",
    "    fig,ax = plt.subplots(figsize=(8,8))\n",
    "    ax.plot(TGT0[0],TGT0[1], 'ro', markersize=20, markerfacecolor='none')\n",
    "    for i,a in enumerate(angs):\n",
    "        ax.plot(TGTS[0,i],TGTS[1,i], 'ro', markersize=10, markerfacecolor='none')\n",
    "        ax.plot(H[:,0,i],H[:,1,i],'b.', markersize=3)\n",
    "    ax.set_aspect('equal', 'box')\n",
    "    ax.set_xlabel('X (m)')\n",
    "    ax.set_ylabel('Y (m)')\n",
    "    ax.set_title('HAND PATH')\n",
    "    ax.grid()\n",
    "    fig.tight_layout()"
   ]
  },
  {
   "cell_type": "code",
   "execution_count": 49,
   "metadata": {},
   "outputs": [
    {
     "data": {
      "image/png": "[encoded data removed]",
      "text/plain": [
       "<Figure size 576x576 with 1 Axes>"
      ]
     },
     "metadata": {
      "needs_background": "light"
     },
     "output_type": "display_data"
    }
   ],
   "source": [
    "# Simulate movements in NF\n",
    "H_NF = np.zeros((npts,2,n)) # hand paths\n",
    "QQ   = np.zeros((npts,2,n)) # muscle torques\n",
    "for i,a in enumerate(angs):\n",
    "    t,H,Hd,Hdd = minjerk(H0,TGTS[:,i],mt,npts)\n",
    "    A,Ad,Add = hand_to_joints((H,Hd,Hdd),arm_params)\n",
    "    Q = inverse_dynamics(A,Ad,Add,arm_params)\n",
    "    A0,Ad0 = A[0,:],np.zeros((1,2))\n",
    "    A_sim, Ad_sim, Add_sim = forward_dynamics(A0, Ad0, Q, t, arm_params)\n",
    "    H_sim,_ = joints_to_hand(A_sim, arm_params)\n",
    "    H_NF[:,:,i] = H_sim\n",
    "plot_hand_paths(TGT0,TGTS,H_NF)"
   ]
  },
  {
   "cell_type": "code",
   "execution_count": null,
   "metadata": {},
   "outputs": [],
   "source": [
    "# Simulate movements in CWFF\n",
    "H_NF = np.zeros((npts,2,n)) # hand paths\n",
    "QQ   = np.zeros((npts,2,n)) # muscle torques\n",
    "for i,a in enumerate(angs):\n",
    "    t,H,Hd,Hdd = minjerk(H0,TGTS[:,i],mt,npts)\n",
    "    A,Ad,Add = hand_to_joints((H,Hd,Hdd),arm_params)\n",
    "    Q = inverse_dynamics(A,Ad,Add,arm_params)\n",
    "    A0,Ad0 = A[0,:],np.zeros((1,2))\n",
    "    A_sim, Ad_sim, Add_sim = forward_dynamics(A0, Ad0, Q, t, arm_params)\n",
    "    H_sim,_ = joints_to_hand(A_sim, arm_params)\n",
    "    H_NF[:,:,i] = H_sim\n",
    "plot_hand_paths(TGT0,TGTS,H_NF)"
   ]
  }
 ],
 "metadata": {
  "interpreter": {
   "hash": "58719bfb780d70d517a600adda4c898572c299d48aec0b72fccccb96e9414a77"
  },
  "kernelspec": {
   "display_name": "Python 3.9.7 ('base')",
   "language": "python",
   "name": "python3"
  },
  "language_info": {
   "codemirror_mode": {
    "name": "ipython",
    "version": 3
   },
   "file_extension": ".py",
   "mimetype": "text/x-python",
   "name": "python",
   "nbconvert_exporter": "python",
   "pygments_lexer": "ipython3",
   "version": "3.9.12"
  },
  "orig_nbformat": 4
 },
 "nbformat": 4,
 "nbformat_minor": 2
}
